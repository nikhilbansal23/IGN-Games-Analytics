{
 "cells": [
  {
   "cell_type": "code",
   "execution_count": 1,
   "id": "b5f122de",
   "metadata": {
    "_cell_guid": "b1076dfc-b9ad-4769-8c92-a6c4dae69d19",
    "_uuid": "8f2839f25d086af736a60e9eeb907d3b93b6e0e5",
    "execution": {
     "iopub.execute_input": "2024-03-01T18:08:09.741961Z",
     "iopub.status.busy": "2024-03-01T18:08:09.741634Z",
     "iopub.status.idle": "2024-03-01T18:08:10.682622Z",
     "shell.execute_reply": "2024-03-01T18:08:10.681615Z"
    },
    "papermill": {
     "duration": 0.948672,
     "end_time": "2024-03-01T18:08:10.685964",
     "exception": false,
     "start_time": "2024-03-01T18:08:09.737292",
     "status": "completed"
    },
    "tags": []
   },
   "outputs": [
    {
     "name": "stdout",
     "output_type": "stream",
     "text": [
      "/kaggle/input/ign-games-from-best-to-worst/IGN games from best to worst.csv\n"
     ]
    }
   ],
   "source": [
    "# This Python 3 environment comes with many helpful analytics libraries installed\n",
    "# It is defined by the kaggle/python Docker image: https://github.com/kaggle/docker-python\n",
    "# For example, here's several helpful packages to load\n",
    "\n",
    "import numpy as np # linear algebra\n",
    "import pandas as pd # data processing, CSV file I/O (e.g. pd.read_csv)\n",
    "\n",
    "# Input data files are available in the read-only \"../input/\" directory\n",
    "# For example, running this (by clicking run or pressing Shift+Enter) will list all files under the input directory\n",
    "\n",
    "import os\n",
    "for dirname, _, filenames in os.walk('/kaggle/input'):\n",
    "    for filename in filenames:\n",
    "        print(os.path.join(dirname, filename))\n",
    "\n",
    "# You can write up to 20GB to the current directory (/kaggle/working/) that gets preserved as output when you create a version using \"Save & Run All\" \n",
    "# You can also write temporary files to /kaggle/temp/, but they won't be saved outside of the current session"
   ]
  },
  {
   "cell_type": "code",
   "execution_count": 2,
   "id": "90087f32",
   "metadata": {
    "execution": {
     "iopub.execute_input": "2024-03-01T18:08:10.694171Z",
     "iopub.status.busy": "2024-03-01T18:08:10.693183Z",
     "iopub.status.idle": "2024-03-01T18:08:10.743348Z",
     "shell.execute_reply": "2024-03-01T18:08:10.742668Z"
    },
    "papermill": {
     "duration": 0.056542,
     "end_time": "2024-03-01T18:08:10.745394",
     "exception": false,
     "start_time": "2024-03-01T18:08:10.688852",
     "status": "completed"
    },
    "tags": []
   },
   "outputs": [],
   "source": [
    "df = pd.read_csv('/kaggle/input/ign-games-from-best-to-worst/IGN games from best to worst.csv')"
   ]
  },
  {
   "cell_type": "code",
   "execution_count": 3,
   "id": "4fff24c4",
   "metadata": {
    "execution": {
     "iopub.execute_input": "2024-03-01T18:08:10.751629Z",
     "iopub.status.busy": "2024-03-01T18:08:10.751253Z",
     "iopub.status.idle": "2024-03-01T18:08:10.776039Z",
     "shell.execute_reply": "2024-03-01T18:08:10.774485Z"
    },
    "papermill": {
     "duration": 0.030582,
     "end_time": "2024-03-01T18:08:10.778355",
     "exception": false,
     "start_time": "2024-03-01T18:08:10.747773",
     "status": "completed"
    },
    "tags": []
   },
   "outputs": [
    {
     "data": {
      "text/html": [
       "<div>\n",
       "<style scoped>\n",
       "    .dataframe tbody tr th:only-of-type {\n",
       "        vertical-align: middle;\n",
       "    }\n",
       "\n",
       "    .dataframe tbody tr th {\n",
       "        vertical-align: top;\n",
       "    }\n",
       "\n",
       "    .dataframe thead th {\n",
       "        text-align: right;\n",
       "    }\n",
       "</style>\n",
       "<table border=\"1\" class=\"dataframe\">\n",
       "  <thead>\n",
       "    <tr style=\"text-align: right;\">\n",
       "      <th></th>\n",
       "      <th>title</th>\n",
       "      <th>score</th>\n",
       "      <th>score_phrase</th>\n",
       "      <th>platform</th>\n",
       "      <th>genre</th>\n",
       "      <th>release_year</th>\n",
       "      <th>release_month</th>\n",
       "      <th>release_day</th>\n",
       "    </tr>\n",
       "  </thead>\n",
       "  <tbody>\n",
       "    <tr>\n",
       "      <th>0</th>\n",
       "      <td>Checkered Flag</td>\n",
       "      <td>10.0</td>\n",
       "      <td>Masterpiece</td>\n",
       "      <td>Lynx</td>\n",
       "      <td>Racing</td>\n",
       "      <td>1999</td>\n",
       "      <td>7</td>\n",
       "      <td>6</td>\n",
       "    </tr>\n",
       "    <tr>\n",
       "      <th>1</th>\n",
       "      <td>Chrono Trigger</td>\n",
       "      <td>10.0</td>\n",
       "      <td>Masterpiece</td>\n",
       "      <td>Wii</td>\n",
       "      <td>Action, RPG</td>\n",
       "      <td>2011</td>\n",
       "      <td>5</td>\n",
       "      <td>25</td>\n",
       "    </tr>\n",
       "    <tr>\n",
       "      <th>2</th>\n",
       "      <td>Dragon Warrior III</td>\n",
       "      <td>10.0</td>\n",
       "      <td>Masterpiece</td>\n",
       "      <td>Game Boy Color</td>\n",
       "      <td>RPG</td>\n",
       "      <td>2001</td>\n",
       "      <td>7</td>\n",
       "      <td>20</td>\n",
       "    </tr>\n",
       "    <tr>\n",
       "      <th>3</th>\n",
       "      <td>Grand Theft Auto IV</td>\n",
       "      <td>10.0</td>\n",
       "      <td>Masterpiece</td>\n",
       "      <td>Xbox 360</td>\n",
       "      <td>Action, Adventure</td>\n",
       "      <td>2008</td>\n",
       "      <td>4</td>\n",
       "      <td>25</td>\n",
       "    </tr>\n",
       "    <tr>\n",
       "      <th>4</th>\n",
       "      <td>Grand Theft Auto IV</td>\n",
       "      <td>10.0</td>\n",
       "      <td>Masterpiece</td>\n",
       "      <td>PlayStation 3</td>\n",
       "      <td>Action, Adventure</td>\n",
       "      <td>2008</td>\n",
       "      <td>4</td>\n",
       "      <td>25</td>\n",
       "    </tr>\n",
       "    <tr>\n",
       "      <th>5</th>\n",
       "      <td>Grand Theft Auto IV (Special Edition)</td>\n",
       "      <td>10.0</td>\n",
       "      <td>Masterpiece</td>\n",
       "      <td>Xbox 360</td>\n",
       "      <td>Action</td>\n",
       "      <td>2008</td>\n",
       "      <td>4</td>\n",
       "      <td>29</td>\n",
       "    </tr>\n",
       "    <tr>\n",
       "      <th>6</th>\n",
       "      <td>Grand Theft Auto IV (Special Edition)</td>\n",
       "      <td>10.0</td>\n",
       "      <td>Masterpiece</td>\n",
       "      <td>PlayStation 3</td>\n",
       "      <td>Action</td>\n",
       "      <td>2008</td>\n",
       "      <td>4</td>\n",
       "      <td>29</td>\n",
       "    </tr>\n",
       "    <tr>\n",
       "      <th>7</th>\n",
       "      <td>Grand Theft Auto V</td>\n",
       "      <td>10.0</td>\n",
       "      <td>Masterpiece</td>\n",
       "      <td>PlayStation 3</td>\n",
       "      <td>Action, Adventure</td>\n",
       "      <td>2013</td>\n",
       "      <td>9</td>\n",
       "      <td>16</td>\n",
       "    </tr>\n",
       "    <tr>\n",
       "      <th>8</th>\n",
       "      <td>Grand Theft Auto V</td>\n",
       "      <td>10.0</td>\n",
       "      <td>Masterpiece</td>\n",
       "      <td>Xbox 360</td>\n",
       "      <td>Action, Adventure</td>\n",
       "      <td>2013</td>\n",
       "      <td>9</td>\n",
       "      <td>16</td>\n",
       "    </tr>\n",
       "    <tr>\n",
       "      <th>9</th>\n",
       "      <td>Grand Theft Auto V</td>\n",
       "      <td>10.0</td>\n",
       "      <td>Masterpiece</td>\n",
       "      <td>PlayStation 4</td>\n",
       "      <td>Action, Adventure</td>\n",
       "      <td>2014</td>\n",
       "      <td>11</td>\n",
       "      <td>17</td>\n",
       "    </tr>\n",
       "  </tbody>\n",
       "</table>\n",
       "</div>"
      ],
      "text/plain": [
       "                                   title  score score_phrase        platform  \\\n",
       "0                         Checkered Flag   10.0  Masterpiece            Lynx   \n",
       "1                         Chrono Trigger   10.0  Masterpiece             Wii   \n",
       "2                     Dragon Warrior III   10.0  Masterpiece  Game Boy Color   \n",
       "3                    Grand Theft Auto IV   10.0  Masterpiece        Xbox 360   \n",
       "4                    Grand Theft Auto IV   10.0  Masterpiece   PlayStation 3   \n",
       "5  Grand Theft Auto IV (Special Edition)   10.0  Masterpiece        Xbox 360   \n",
       "6  Grand Theft Auto IV (Special Edition)   10.0  Masterpiece   PlayStation 3   \n",
       "7                     Grand Theft Auto V   10.0  Masterpiece   PlayStation 3   \n",
       "8                     Grand Theft Auto V   10.0  Masterpiece        Xbox 360   \n",
       "9                     Grand Theft Auto V   10.0  Masterpiece   PlayStation 4   \n",
       "\n",
       "               genre  release_year  release_month  release_day  \n",
       "0             Racing          1999              7            6  \n",
       "1        Action, RPG          2011              5           25  \n",
       "2                RPG          2001              7           20  \n",
       "3  Action, Adventure          2008              4           25  \n",
       "4  Action, Adventure          2008              4           25  \n",
       "5             Action          2008              4           29  \n",
       "6             Action          2008              4           29  \n",
       "7  Action, Adventure          2013              9           16  \n",
       "8  Action, Adventure          2013              9           16  \n",
       "9  Action, Adventure          2014             11           17  "
      ]
     },
     "execution_count": 3,
     "metadata": {},
     "output_type": "execute_result"
    }
   ],
   "source": [
    "df.head(10)"
   ]
  },
  {
   "cell_type": "code",
   "execution_count": 4,
   "id": "0b558bc8",
   "metadata": {
    "execution": {
     "iopub.execute_input": "2024-03-01T18:08:10.784900Z",
     "iopub.status.busy": "2024-03-01T18:08:10.784505Z",
     "iopub.status.idle": "2024-03-01T18:08:10.798354Z",
     "shell.execute_reply": "2024-03-01T18:08:10.797312Z"
    },
    "papermill": {
     "duration": 0.020249,
     "end_time": "2024-03-01T18:08:10.801229",
     "exception": false,
     "start_time": "2024-03-01T18:08:10.780980",
     "status": "completed"
    },
    "tags": []
   },
   "outputs": [
    {
     "data": {
      "text/plain": [
       "title            18625\n",
       "score            18625\n",
       "score_phrase     18625\n",
       "platform         18625\n",
       "genre            18589\n",
       "release_year     18625\n",
       "release_month    18625\n",
       "release_day      18625\n",
       "dtype: int64"
      ]
     },
     "execution_count": 4,
     "metadata": {},
     "output_type": "execute_result"
    }
   ],
   "source": [
    "df.count()"
   ]
  },
  {
   "cell_type": "code",
   "execution_count": 5,
   "id": "1305a617",
   "metadata": {
    "execution": {
     "iopub.execute_input": "2024-03-01T18:08:10.808681Z",
     "iopub.status.busy": "2024-03-01T18:08:10.807878Z",
     "iopub.status.idle": "2024-03-01T18:08:10.819787Z",
     "shell.execute_reply": "2024-03-01T18:08:10.818895Z"
    },
    "papermill": {
     "duration": 0.017696,
     "end_time": "2024-03-01T18:08:10.821634",
     "exception": false,
     "start_time": "2024-03-01T18:08:10.803938",
     "status": "completed"
    },
    "tags": []
   },
   "outputs": [
    {
     "data": {
      "text/plain": [
       "array([1999, 2011, 2001, 2008, 2013, 2014, 2015, 2016, 2000, 2010, 1998,\n",
       "       2007, 2006, 2004, 2005, 2012, 2002, 1996, 2003, 1997, 2009, 1970])"
      ]
     },
     "execution_count": 5,
     "metadata": {},
     "output_type": "execute_result"
    }
   ],
   "source": [
    "df['release_year'].unique()"
   ]
  },
  {
   "cell_type": "code",
   "execution_count": null,
   "id": "2fac6ea4",
   "metadata": {
    "papermill": {
     "duration": 0.002359,
     "end_time": "2024-03-01T18:08:10.826739",
     "exception": false,
     "start_time": "2024-03-01T18:08:10.824380",
     "status": "completed"
    },
    "tags": []
   },
   "outputs": [],
   "source": []
  }
 ],
 "metadata": {
  "kaggle": {
   "accelerator": "none",
   "dataSources": [
    {
     "datasetId": 4411537,
     "sourceId": 7733679,
     "sourceType": "datasetVersion"
    }
   ],
   "dockerImageVersionId": 30664,
   "isGpuEnabled": false,
   "isInternetEnabled": true,
   "language": "python",
   "sourceType": "notebook"
  },
  "kernelspec": {
   "display_name": "Python 3",
   "language": "python",
   "name": "python3"
  },
  "language_info": {
   "codemirror_mode": {
    "name": "ipython",
    "version": 3
   },
   "file_extension": ".py",
   "mimetype": "text/x-python",
   "name": "python",
   "nbconvert_exporter": "python",
   "pygments_lexer": "ipython3",
   "version": "3.10.13"
  },
  "papermill": {
   "default_parameters": {},
   "duration": 4.06577,
   "end_time": "2024-03-01T18:08:11.248792",
   "environment_variables": {},
   "exception": null,
   "input_path": "__notebook__.ipynb",
   "output_path": "__notebook__.ipynb",
   "parameters": {},
   "start_time": "2024-03-01T18:08:07.183022",
   "version": "2.5.0"
  }
 },
 "nbformat": 4,
 "nbformat_minor": 5
}
